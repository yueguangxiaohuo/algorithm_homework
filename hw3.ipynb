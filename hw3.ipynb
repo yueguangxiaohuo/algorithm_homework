{
 "cells": [
  {
   "cell_type": "markdown",
   "metadata": {},
   "source": [
    "## algorithm design and anlysis-2025 spring  homework 3\n",
    "**Deadline**：2025.5.14\n",
    "\n",
    "**name**:\n",
    "\n",
    "\n",
    "note：\n",
    "---\n",
    "1. 带有\\*的题目，申请免上课的同学，必须完成，其他同学选作；\n",
    "2. 请独立完成，如求助了他人或者大模型，请著明，并且不可省略算法分析部分；\n",
    "4. 如若作答有雷同，全部取消成绩；\n",
    "3. 需要书面作答的题目，可以通过引用图片的形式添加，但是注意上传项目时包含所引用的图片的源文件；\n",
    "4. $log_n$ 默认表示$log_2{n}$;"
   ]
  },
  {
   "cell_type": "markdown",
   "metadata": {},
   "source": [
    "## 问题 1  \n",
    "\n",
    "请证明基于比较的排序算法计算复杂度下界为$\\Omega(nlogn)$"
   ]
  },
  {
   "cell_type": "markdown",
   "metadata": {},
   "source": [
    "you can refer a handwritten picture, pleas upload the picture in /fig/xxx.png\n",
    "answer："
   ]
  },
  {
   "cell_type": "markdown",
   "metadata": {},
   "source": [
    "## 问题 2 \n",
    "\n",
    "构建二叉搜索树\n",
    "\n",
    "> 1. 给定一个数组 [48, 33, 49, 47, 42, 46, 32], 构建一个二叉搜索树存储这些数据，请**绘制**所构建的**二叉搜索树**（标明结点的值）。\n",
    "> 2. 从第1问的二叉搜索树中删除33，请**绘制**删除33后的**二叉搜索树**（标明结点的值）\n",
    "\n",
    "- 推荐使用graphviz包绘制树的结构"
   ]
  },
  {
   "cell_type": "markdown",
   "metadata": {},
   "source": [
    "you can refer a handwritten picture, pleas upload the picture in /fig/xxx.png\n",
    "answer："
   ]
  },
  {
   "cell_type": "markdown",
   "metadata": {},
   "source": [
    "## 问题 3 \n",
    "\n",
    "> 下面是九门课程的开始和结束时间:\n",
    ">\n",
    "> [(9:00,12:30), (11:00,14:00), (13:00, 14:30), (9:00,10:30),(13:00, 14:30),(14:00,16:30), (15:00,16:30), (15:00,16:30), (9:00,10:30)]\n",
    ">\n",
    "> 请使用贪婪算法为这九门课分配教室，要求在同一天内安排这些课，并且每个教室同一时间只能安排一门课。\n",
    "\n",
    "**请问最少需要几间教室，罗列出每个教室安排的课程**"
   ]
  },
  {
   "cell_type": "markdown",
   "metadata": {},
   "source": [
    "idea："
   ]
  },
  {
   "cell_type": "code",
   "execution_count": 2,
   "metadata": {
    "vscode": {
     "languageId": "plaintext"
    }
   },
   "outputs": [
    {
     "name": "stdout",
     "output_type": "stream",
     "text": [
      "最少需要教室数: 3\n",
      "教室 1: ['课程4', '课程2', '课程6']\n",
      "教室 2: ['课程9', '课程3', '课程7']\n",
      "教室 3: ['课程1', '课程5', '课程8']\n"
     ]
    }
   ],
   "source": [
    "# 转成分钟\n",
    "def to_minutes(time_str):\n",
    "    h, m = map(int, time_str.split(\":\"))\n",
    "    return h * 60 + m\n",
    "\n",
    "# 课程列表\n",
    "courses = [\n",
    "    (\"9:00\", \"12:30\"), (\"11:00\", \"14:00\"), (\"13:00\", \"14:30\"),\n",
    "    (\"9:00\", \"10:30\"), (\"13:00\", \"14:30\"), (\"14:00\", \"16:30\"),\n",
    "    (\"15:00\", \"16:30\"), (\"15:00\", \"16:30\"), (\"9:00\", \"10:30\")\n",
    "]\n",
    "\n",
    "# 转成分钟并排序\n",
    "courses_with_index = []\n",
    "for idx, (start, end) in enumerate(courses):\n",
    "    start_min = to_minutes(start)\n",
    "    end_min = to_minutes(end)\n",
    "    courses_with_index.append((start_min, end_min, idx + 1))\n",
    "\n",
    "# 按结束时间排序，结束时间相同按开始时间排序\n",
    "courses_with_index.sort(key=lambda x: (x[1], x[0]))\n",
    "\n",
    "classrooms = []  # 课表(start, end, idx)\n",
    "for start, end, idx in courses_with_index:\n",
    "    # 找一个能放的教室\n",
    "    placed = False\n",
    "    for room in classrooms:\n",
    "        last_end = room[-1][1]  # 教室最后一门课的结束时间\n",
    "        if start >= last_end: \n",
    "            room.append((start, end, idx))\n",
    "            placed = True\n",
    "            break\n",
    "    if not placed: \n",
    "        classrooms.append([(start, end, idx)])\n",
    "\n",
    "print(\"最少需要教室数:\", len(classrooms))\n",
    "for i, room in enumerate(classrooms, 1):\n",
    "    room_courses = [f\"课程{c[2]}\" for c in room]\n",
    "    print(f\"教室 {i}: {room_courses}\")"
   ]
  },
  {
   "cell_type": "markdown",
   "metadata": {},
   "source": [
    "## 问题 4 \n",
    "\n",
    "> 爬楼梯问题：假设爬楼梯时你每次只能爬一阶或者爬两阶，问爬上n阶的楼梯，你一共有多少种方法\n",
    "\n",
    "请设计算法完成该问题，分析算法设计思路，计算时间复杂度，并基于python编程实现"
   ]
  },
  {
   "cell_type": "markdown",
   "metadata": {},
   "source": [
    "idea："
   ]
  },
  {
   "cell_type": "code",
   "execution_count": null,
   "metadata": {},
   "outputs": [],
   "source": [
    "# add your code here\n",
    "def climb_stairs(n):\n",
    "    if n <= 1:\n",
    "        return 1\n",
    "    \n",
    "    # dp[i] 表示爬到第i阶的方法数\n",
    "    dp = [0] * (n + 1)\n",
    "    dp[0] = 1  \n",
    "    dp[1] = 1 \n",
    "    \n",
    "    # 递推\n",
    "    for i in range(2, n + 1):\n",
    "        dp[i] = dp[i-1] + dp[i-2]  # 从i-1爬1阶 或 从i-2爬2阶\n",
    "    \n",
    "    return dp[n]\n",
    "\n",
    "# 思路：使用动态规划定义 dp[i] 为爬到第 i 阶的方法数，通过状态转移 dp[i] = dp[i-1] + dp[i-2]（从 i-1 爬 1 阶或 i-2 爬 2 阶）计算，\n",
    "# 初始条件为 dp[0] = 1 和 dp[1] = 1。\n",
    "# your algorithm time complexity is: 遍历0到n，时间复杂度为O(n)；每次计算为O(1),因此总的时间复杂度为O(n)"
   ]
  },
  {
   "cell_type": "markdown",
   "metadata": {},
   "source": [
    "## 问题 5 \n",
    "\n",
    "> 0-1背包问题：现在有4块大理石，每个大理石对应的重量和价值使用一个元组表示, 即（重量，价值），4块大理石的重量和价值为：[(5,10), (4,40), (6,30), (3, 50)], 假设你有一辆最大承重为9的小推车，请问使用这个小推车装大理石的最大价值为多少\n",
    "\n",
    "请设计一个算法解决该问题，分析算法设计思路，计算时间复杂度，并基于python编程实现"
   ]
  },
  {
   "cell_type": "markdown",
   "metadata": {},
   "source": [
    "idea："
   ]
  },
  {
   "cell_type": "code",
   "execution_count": null,
   "metadata": {},
   "outputs": [],
   "source": [
    "# add your code here\n",
    "def knapsack(weights, values, capacity):\n",
    "    n = len(weights)\n",
    "    # dp[i][w] 表示前i个物品，容量w时的最大价值\n",
    "    dp = [[0] * (capacity + 1) for _ in range(n + 1)]\n",
    "    \n",
    "    for i in range(1, n + 1):\n",
    "        for w in range(capacity + 1):\n",
    "            # 不选第i个物品\n",
    "            dp[i][w] = dp[i-1][w]\n",
    "            # 选第i个物品（如果放得下）\n",
    "            if w >= weights[i-1]:\n",
    "                dp[i][w] = max(dp[i][w], dp[i-1][w - weights[i-1]] + values[i-1])\n",
    "    \n",
    "    return dp[n][capacity]\n",
    "\n",
    "if __name__ == \"__main__\":\n",
    "    marbles = [(5, 10), (4, 40), (6, 30), (3, 50)]\n",
    "    weights = [w for w, v in marbles]\n",
    "    values = [v for w, v in marbles]\n",
    "    capacity = 9\n",
    "    print(\"小推车承重:\", capacity)\n",
    "    max_value = knapsack(weights, values, capacity)\n",
    "    print(\"最大价值 =\", max_value) \n",
    "\n",
    "# 思路：使用动态规划定义 dp[i][w] 为前 i 个物品在容量 w 下的最大价值，通过状态转移（不选或选第 i 个物品）取最大值，\n",
    "# 最终得到为 dp[n][capacity]。\n",
    "# your algorithm time complexity is:动态规划的表格大小为 (n+1) × (capacity+1)，因此总的时间复杂度为O(n × capacity)\n",
    "# 在这里的时间复杂度就为O(4*9)=O(36)"
   ]
  },
  {
   "cell_type": "markdown",
   "metadata": {},
   "source": [
    "## 问题 6 \n",
    "给定 `n` 个非负整数表示每个宽度为 `1` 的柱子的高度图，计算按此排列的柱子，下雨之后能接多少雨水。\n",
    "\n",
    "\n",
    "\n",
    "<div style=\"text-align:center;width:800px;\"> <img alt=\"\" src=\"./fig/hw3q6.png\"> </div>\n",
    "\n",
    "请分析算法设计思路，计算时间复杂度，并基于python编程实现"
   ]
  },
  {
   "cell_type": "markdown",
   "metadata": {},
   "source": [
    "idea："
   ]
  },
  {
   "cell_type": "code",
   "execution_count": 3,
   "metadata": {},
   "outputs": [
    {
     "name": "stdout",
     "output_type": "stream",
     "text": [
      "高度: [0, 1, 0, 2, 1, 0, 1, 3, 2, 1, 2, 1]\n",
      "接雨水量 = 6\n"
     ]
    }
   ],
   "source": [
    "# add your code here\n",
    "def trap_rain_water(height):\n",
    "    if not height or len(height) < 3:\n",
    "        return 0\n",
    "    \n",
    "    water = 0\n",
    "    left = 0\n",
    "    right = len(height) - 1\n",
    "    left_max = 0\n",
    "    right_max = 0\n",
    "    \n",
    "    while left < right:\n",
    "        # 左边高度较小，处理左边\n",
    "        if left_max <= right_max:\n",
    "            if height[left] >= left_max:\n",
    "                left_max = height[left]\n",
    "            else:\n",
    "                water += left_max - height[left]\n",
    "            left += 1\n",
    "        # 右边高度较小，处理右边\n",
    "        else:\n",
    "            if height[right] >= right_max:\n",
    "                right_max = height[right]\n",
    "            else:\n",
    "                water += right_max - height[right]\n",
    "            right -= 1\n",
    "    \n",
    "    return water\n",
    "\n",
    "if __name__ == \"__main__\":\n",
    "    height = [0, 1, 0, 2, 1, 0, 1, 3, 2, 1, 2, 1]\n",
    "    print(\"高度:\", height)\n",
    "    print(\"接雨水量 =\", trap_rain_water(height)) \n",
    "# 思路：雨水能接在凹槽处，取决于左右两侧最高柱子中的较小值与当前柱子高度的差\n",
    "# 使用双指针法从两端向中间移动，维护左右最大高度 left_max 和 right_max，\n",
    "# 根据较小侧计算雨水量（left_max - height[left] 或 right_max - height[right]）并累加，直到指针相遇。\n",
    "# your algorithm time complexity is: 双指针遍历数组一次，O(n)"
   ]
  },
  {
   "cell_type": "markdown",
   "metadata": {},
   "source": [
    "## 问题 7 \n",
    "\n",
    "**股票投资组合优化**： 假设你是一位投资者，想要在不同的股票中分配你的资金，以最大化你的投资回报。每只股票都有不同的预期收益率和风险。你的目标是选择一些股票，使得总投资金额不超过你的预算，并且预期收益最大化。\n",
    "\n",
    "在这个情况下，你可以将每只股票视为一个“物品”，其重量为投资金额，价值为预期收益率。然后，你可以使用分级背包问题的方法来选择部分股票，以便在预算内获得最大的预期收益。\n",
    "\n",
    "以下是一个简化的例子：\n",
    "\n",
    "假设你有以下三只股票可供选择：\n",
    "\n",
    "1. 股票 A：投资金额 5000 美元，预期收益率 10%\n",
    "2. 股票 B：投资金额 3000 美元，预期收益率 8%\n",
    "3. 股票 C：投资金额 2000 美元，预期收益率 12%\n",
    "\n",
    "请设计算法找到最优投资方案，分析算法设计思路，计算时间复杂度，并基于python编程实现"
   ]
  },
  {
   "cell_type": "markdown",
   "metadata": {},
   "source": [
    "idea："
   ]
  },
  {
   "cell_type": "code",
   "execution_count": 1,
   "metadata": {},
   "outputs": [
    {
     "name": "stdout",
     "output_type": "stream",
     "text": [
      "股票: [('A', 5000, 10), ('B', 3000, 8), ('C', 2000, 12)]\n",
      "预算: 10000\n",
      "最大收益 = 980.0\n",
      "选的股票 = ['A', 'B', 'C']\n"
     ]
    }
   ],
   "source": [
    "# add your code here\n",
    "def stock_investment(costs, rates, budget):\n",
    "    n = len(costs)\n",
    "    # 实际收益\n",
    "    returns = []\n",
    "    for i in range(n):\n",
    "        profit = costs[i] * rates[i] / 100\n",
    "        returns.append(profit)\n",
    "    \n",
    "    # dp[i][w] 是前i只股票，预算w时的最大收益\n",
    "    dp = []\n",
    "    for i in range(n + 1):\n",
    "        row = [0] * (budget + 1)\n",
    "        dp.append(row)\n",
    "    # 填表\n",
    "    for i in range(1, n + 1):\n",
    "        for w in range(budget + 1):\n",
    "            dp[i][w] = dp[i-1][w]\n",
    "            if w >= costs[i-1]:\n",
    "                dp[i][w] = max(dp[i][w], dp[i-1][w - costs[i-1]] + returns[i-1])\n",
    "    \n",
    "    # 回溯，看选了哪些股票\n",
    "    selected = []\n",
    "    w = budget\n",
    "    for i in range(n, 0, -1):\n",
    "        if dp[i][w] != dp[i-1][w]:  \n",
    "            selected.append(i)\n",
    "            w = w - costs[i-1]\n",
    "    \n",
    "    return dp[n][budget], selected[::-1]  \n",
    "\n",
    "if __name__ == \"__main__\":\n",
    "    stocks = [(\"A\", 5000, 10), (\"B\", 3000, 8), (\"C\", 2000, 12)]\n",
    "    costs = []\n",
    "    rates = []\n",
    "    for name, cost, rate in stocks:\n",
    "        costs.append(cost)\n",
    "        rates.append(rate)\n",
    "    budget = 10000  \n",
    "    print(\"股票:\", stocks)\n",
    "    print(\"预算:\", budget)\n",
    "    max_profit, selected = stock_investment(costs, rates, budget)\n",
    "    print(\"最大收益 =\", max_profit)\n",
    "    # 打印选了哪些股票\n",
    "    selected_names = []\n",
    "    for idx in selected:\n",
    "        selected_names.append(stocks[idx-1][0])\n",
    "    print(\"选的股票 =\", selected_names)\n",
    "    \n",
    "# 思路：使用动态规划定义 `dp[i][w]` 为前 `i` 只股票在预算 `w` 时的最大收益，\n",
    "# 通过状态转移（不选或选第 `i` 只股票）计算最大值，最后回溯确定选择的股票。\n",
    "# your algorithm time complexity is:动态规划的表格大小是(n+1) × (budget+1)，因此总的时间复杂度为O(n*budget)"
   ]
  },
  {
   "cell_type": "markdown",
   "metadata": {},
   "source": [
    "## 问题 8\n",
    "\n",
    "给你二叉搜索树的根节点 root ，该树中的恰好两个节点的值被错误地交换。请在不改变其结构的情况下，恢复这棵树 。设计算法解决该问题，分析算法设计思路，计算时间复杂度，并基于python编程实现\n",
    "\n",
    "e.g.:\n",
    "---\n",
    "1.\n",
    "\n",
    "<div style=\"text-align:center;width:200px;\"> <img alt=\"\" src=\"./fig/hw3q9-1.jpg\"> </div>\n",
    "输入：root = [1,3,null,null,2]， 输出为：[3,1,null,null,2]， \n",
    "\n",
    "解释：3 不能是 1 的左孩子，因为 3 > 1 。交换 1 和 3 使二叉搜索树有效。\n",
    "\n",
    "2.\n",
    "\n",
    " <div style=\"text-align:center;width:200px;\"> <img alt=\"\" src=\"./fig/hw3q9-1.jpg\"> </div>\n",
    "输入： root=[3,1,4,null,null,2]， 输出为：[2,1,4,null,null,3]\n",
    "\n",
    "解释：2 不能在 3 的右子树中，因为 2 < 3 。交换 2 和 3 使二叉搜索树有效。"
   ]
  },
  {
   "cell_type": "markdown",
   "metadata": {},
   "source": [
    "idea：\n"
   ]
  },
  {
   "cell_type": "code",
   "execution_count": 2,
   "metadata": {},
   "outputs": [
    {
     "name": "stdout",
     "output_type": "stream",
     "text": [
      "输入: [1, 3, None, None, 2]\n",
      "输出: [3, 1, None, None, 2]\n"
     ]
    }
   ],
   "source": [
    "# add your code here\n",
    "class TreeNode:\n",
    "    def __init__(self, val=0, left=None, right=None):\n",
    "        self.val = val\n",
    "        self.left = left\n",
    "        self.right = right\n",
    "\n",
    "def recover_bst(root):\n",
    "    # 用列表存类变量\n",
    "    first = [None]\n",
    "    second = [None]\n",
    "    prev = [None]\n",
    "    def inorder(node):\n",
    "        if not node:\n",
    "            return\n",
    "        # 左子树\n",
    "        inorder(node.left)\n",
    "        # 处理当前节点\n",
    "        if prev[0] and prev[0].val > node.val:\n",
    "            # 第一个错误点\n",
    "            if not first[0]:\n",
    "                first[0] = prev[0]\n",
    "                second[0] = node\n",
    "            # 第二个错误点\n",
    "            else:\n",
    "                second[0] = node\n",
    "        prev[0] = node\n",
    "        \n",
    "        # 右子树\n",
    "        inorder(node.right)\n",
    "    # 中序遍历找错误节点\n",
    "    inorder(root)\n",
    "    # 交换两个节点的值\n",
    "    first[0].val, second[0].val = second[0].val, first[0].val\n",
    "    return root\n",
    "\n",
    "# 测试\n",
    "def build_tree(values):\n",
    "    if not values:\n",
    "        return None\n",
    "    root = TreeNode(values[0])\n",
    "    queue = [root]\n",
    "    i = 1\n",
    "    while queue and i < len(values):\n",
    "        node = queue.pop(0)\n",
    "        if i < len(values) and values[i] is not None:\n",
    "            node.left = TreeNode(values[i])\n",
    "            queue.append(node.left)\n",
    "        i += 1\n",
    "        if i < len(values) and values[i] is not None:\n",
    "            node.right = TreeNode(values[i])\n",
    "            queue.append(node.right)\n",
    "        i += 1\n",
    "    return root\n",
    "\n",
    "def print_tree(root):\n",
    "    if not root:\n",
    "        return []\n",
    "    result = []\n",
    "    queue = [root]\n",
    "    while queue:\n",
    "        node = queue.pop(0)\n",
    "        if node:\n",
    "            result.append(node.val)\n",
    "            queue.append(node.left)\n",
    "            queue.append(node.right)\n",
    "        else:\n",
    "            result.append(None)\n",
    "    while result and result[-1] is None:\n",
    "        result.pop()\n",
    "    return result\n",
    "\n",
    "if __name__ == \"__main__\":\n",
    "    root1 = build_tree([1, 3, None, None, 2])\n",
    "    print(\"输入:\", print_tree(root1))\n",
    "    recover_bst(root1)\n",
    "    print(\"输出:\", print_tree(root1))\n",
    "# 思路：通过中序遍历 BST（应为升序），记录前一节点 prev 和当前节点 curr，\n",
    "# 找到两个不符合升序的错误点（第一个错误设置 first = prev 和 second = curr，第二个错误更新 second = curr），最后交换 first.val 和 second.val\n",
    "# your algorithm time complexity is:中序遍历一次，有n个节点，因此总的时间复杂度为O(n)"
   ]
  },
  {
   "cell_type": "markdown",
   "metadata": {},
   "source": [
    "## 问题 9  \n",
    "\n",
    "给你一个二叉树的根节点 root ，树中每个节点都存放有一个 0 到 9 之间的数字。每条从根节点到叶节点的路径都代表一个数字：\n",
    "\n",
    "> 例如，从根节点到叶节点的路径 1 -> 2 -> 3 表示数字 123 。\n",
    "\n",
    "设计一个算法计算从根节点到叶节点生成的所有数字之和 ，分析算法设计思路，计算时间复杂度，并基于python编程实现\n",
    "\n",
    "叶节点:是指没有子节点的节点。\n",
    "\n",
    "e.g.:\n",
    "---\n",
    "1.\n",
    "\n",
    " <div style=\"text-align:center;width:200px;\"> <img alt=\"figure\" src=\"./fig/hw3q10-1.jpg\"> </div>\n",
    "\n",
    " 输入：root = [1,2,3], 输出：25\n",
    "\n",
    "解释：从根到叶子节点路径 1->2 代表数字 12，1->3 代表数字 13，因此和为 12 + 13 = 25 。\n",
    "\n",
    "2.\n",
    "\n",
    " <div style=\"text-align:center;width:200px;\"> <img alt=\"figure\" src=\"./fig/hw3q10-2.jpg\"> </div>\n",
    "\n",
    " 输入：root = [4,9,0,5,1], 输出：1026\n",
    "\n",
    "解释：从根到叶子节点路径 4->9->5 代表数字 495，4->9->1 代表数字 491，4->0 代表数字 40。因此和为 495 + 491 + 40 = 1026 。"
   ]
  },
  {
   "cell_type": "markdown",
   "metadata": {},
   "source": [
    "idea："
   ]
  },
  {
   "cell_type": "code",
   "execution_count": 4,
   "metadata": {},
   "outputs": [
    {
     "name": "stdout",
     "output_type": "stream",
     "text": [
      "输入: [1, 2, 3]\n",
      "输出: 25\n"
     ]
    }
   ],
   "source": [
    "# add your code here\n",
    "class TreeNode:\n",
    "    def __init__(self, val=0, left=None, right=None):\n",
    "        self.val = val\n",
    "        self.left = left\n",
    "        self.right = right\n",
    "\n",
    "def sum_numbers(root):\n",
    "    if not root:\n",
    "        return 0\n",
    "    \n",
    "    total = [0]  # 用列表存总和\n",
    "    \n",
    "    def dfs(node, curr_num):\n",
    "        if not node:\n",
    "            return\n",
    "        \n",
    "        # 当前路径的数字\n",
    "        curr_num = curr_num * 10 + node.val\n",
    "        \n",
    "        # 如果是叶节点，累加到总和\n",
    "        if not node.left and not node.right:\n",
    "            total[0] += curr_num\n",
    "            return\n",
    "        \n",
    "        # 递归左右子树\n",
    "        dfs(node.left, curr_num)\n",
    "        dfs(node.right, curr_num)\n",
    "    \n",
    "    dfs(root, 0)\n",
    "    return total[0]\n",
    "\n",
    "def build_tree(values):\n",
    "    if not values:\n",
    "        return None\n",
    "    root = TreeNode(values[0])\n",
    "    queue = [root]\n",
    "    i = 1\n",
    "    while queue and i < len(values):\n",
    "        node = queue.pop(0)\n",
    "        if i < len(values) and values[i] is not None:\n",
    "            node.left = TreeNode(values[i])\n",
    "            queue.append(node.left)\n",
    "        i += 1\n",
    "        if i < len(values) and values[i] is not None:\n",
    "            node.right = TreeNode(values[i])\n",
    "            queue.append(node.right)\n",
    "        i += 1\n",
    "    return root\n",
    "\n",
    "def print_tree(root):\n",
    "    if not root:\n",
    "        return []\n",
    "    result = []\n",
    "    queue = [root]\n",
    "    while queue:\n",
    "        node = queue.pop(0)\n",
    "        if node:\n",
    "            result.append(node.val)\n",
    "            queue.append(node.left)\n",
    "            queue.append(node.right)\n",
    "        else:\n",
    "            result.append(None)\n",
    "    while result and result[-1] is None:\n",
    "        result.pop()\n",
    "    return result\n",
    "\n",
    "if __name__ == \"__main__\":\n",
    "    root1 = build_tree([1, 2, 3])\n",
    "    print(\"输入:\", print_tree(root1))\n",
    "    print(\"输出:\", sum_numbers(root1))  \n",
    "\n",
    "# 思路：使用深度优先搜索（DFS）遍历所有根到叶路径。\n",
    "# 在遍历时维护当前路径的数字（每次向下走，数字乘 10 加上当前节点值），到达叶节点时累加到总和。\n",
    "# your algorithm time complexity is:遍历每个节点一次，n个节点即为O(n),因此总时间复杂度就为O(n)"
   ]
  },
  {
   "cell_type": "markdown",
   "metadata": {},
   "source": [
    "## 问题 10  \n",
    "\n",
    "给你一个二叉树的根节点 root ， 检查它是否轴对称。\n",
    "\n",
    "1. 分析算法设计思路，计算时间复杂度，并基于python编程实现\n",
    "2. \\* 设计使用递归和迭代两种方法解决这个问题，计算时间复杂度，并基于python编程实现\n",
    "\n",
    "e.g.:\n",
    "---\n",
    "1.\n",
    "\n",
    " <div style=\"text-align:center;width:200px;\"> <img alt=\"figure\" src=\"./fig/hw3q11-1.png\"> </div>\n",
    "\n",
    " 输入：root = [1,2,2,3,4,4,3]， 输出：true\n",
    "\n",
    "解释：二叉树 [1,2,2,3,4,4,3] 对称。\n",
    "\n",
    "2.\n",
    "\n",
    " <div style=\"text-align:center;width:200px;\"> <img alt=\"figure\" src=\"./fig/hw3q11-2.png\"> </div>\n",
    "\n",
    " 输入：root = [1,2,2,null,3,null,3]， 输出：false"
   ]
  },
  {
   "cell_type": "markdown",
   "metadata": {},
   "source": [
    "idea"
   ]
  },
  {
   "cell_type": "code",
   "execution_count": 5,
   "metadata": {},
   "outputs": [
    {
     "name": "stdout",
     "output_type": "stream",
     "text": [
      "输入: [1, 2, 2, 3, 4, 4, 3]\n",
      "输出: True\n"
     ]
    }
   ],
   "source": [
    "# add your code here\n",
    "class TreeNode:\n",
    "    def __init__(self, val=0, left=None, right=None):\n",
    "        self.val = val\n",
    "        self.left = left\n",
    "        self.right = right\n",
    "\n",
    "def is_symmetric(root):\n",
    "    if not root:\n",
    "        return True\n",
    "    \n",
    "    def check(left, right):\n",
    "        # 都为空，对称\n",
    "        if not left and not right:\n",
    "            return True\n",
    "        # 一个为空，一个不为空，不对称\n",
    "        if not left or not right:\n",
    "            return False\n",
    "        # 值不同，不对称\n",
    "        if left.val != right.val:\n",
    "            return False\n",
    "        # 左的左和右的右，左的右和右的左\n",
    "        return check(left.left, right.right) and check(left.right, right.left)\n",
    "    \n",
    "    return check(root.left, root.right)\n",
    "\n",
    "def build_tree(values):\n",
    "    if not values:\n",
    "        return None\n",
    "    root = TreeNode(values[0])\n",
    "    queue = [root]\n",
    "    i = 1\n",
    "    while queue and i < len(values):\n",
    "        node = queue.pop(0)\n",
    "        if i < len(values) and values[i] is not None:\n",
    "            node.left = TreeNode(values[i])\n",
    "            queue.append(node.left)\n",
    "        i += 1\n",
    "        if i < len(values) and values[i] is not None:\n",
    "            node.right = TreeNode(values[i])\n",
    "            queue.append(node.right)\n",
    "        i += 1\n",
    "    return root\n",
    "\n",
    "def print_tree(root):\n",
    "    if not root:\n",
    "        return []\n",
    "    result = []\n",
    "    queue = [root]\n",
    "    while queue:\n",
    "        node = queue.pop(0)\n",
    "        if node:\n",
    "            result.append(node.val)\n",
    "            queue.append(node.left)\n",
    "            queue.append(node.right)\n",
    "        else:\n",
    "            result.append(None)\n",
    "    while result and result[-1] is None:\n",
    "        result.pop()\n",
    "    return result\n",
    "\n",
    "if __name__ == \"__main__\":\n",
    "    root1 = build_tree([1, 2, 2, 3, 4, 4, 3])\n",
    "    print(\"输入:\", print_tree(root1))\n",
    "    print(\"输出:\", is_symmetric(root1))  \n",
    "    \n",
    "# 思路：使用递归检查左右子树是否镜像对称，\n",
    "# 两个子树对称需满足：根节点值相同；左子树的左孩子与右子树的右孩子对称，左子树的右孩子与右子树的左孩子对称\n",
    "# 通过递归比较左右子树的对称性\n",
    "# your algorithm time complexity is:遍历每个节点一次，因此总时间复杂度为O(n)"
   ]
  },
  {
   "cell_type": "markdown",
   "metadata": {},
   "source": [
    "## 问题 11  \n",
    "\n",
    "给你一个由 '1'（陆地）和 '0'（水）组成的的二维网格，请你计算网格中岛屿的数量。岛屿总是被水包围，并且每座岛屿只能由水平方向和/或竖直方向上相邻的陆地连接形成。\n",
    "\n",
    "此外，你可以假设该网格的四条边均被水包围。\n",
    "\n",
    "分析算法设计思路，计算时间复杂度，并基于python编程实现\n",
    "\n",
    "e.g.:\n",
    "---\n",
    "1.\n",
    "输入：grid = [\n",
    "\n",
    "    [\"1\",\"1\",\"1\",\"1\",\"0\"],\n",
    "\n",
    "    [\"1\",\"1\",\"0\",\"1\",\"0\"], \n",
    "\n",
    "    [\"1\",\"1\",\"0\",\"0\",\"0\"], \n",
    "\n",
    "    [\"0\",\"0\",\"0\",\"0\",\"0\"]  \n",
    "\n",
    "]\n",
    "\n",
    "输出：1\n",
    "\n",
    "2.\n",
    "输入：grid = [\n",
    "\n",
    "    [\"1\",\"1\",\"0\",\"0\",\"0\"],\n",
    "\n",
    "    [\"1\",\"1\",\"0\",\"0\",\"0\"],\n",
    "\n",
    "    [\"0\",\"0\",\"1\",\"0\",\"0\"],\n",
    "\n",
    "    [\"0\",\"0\",\"0\",\"1\",\"1\"]\n",
    "\n",
    "]\n",
    "\n",
    "输出：3"
   ]
  },
  {
   "cell_type": "markdown",
   "metadata": {},
   "source": [
    "idea:"
   ]
  },
  {
   "cell_type": "code",
   "execution_count": 6,
   "metadata": {},
   "outputs": [
    {
     "name": "stdout",
     "output_type": "stream",
     "text": [
      "输入: [['1', '1', '1', '1', '0'], ['1', '1', '0', '1', '0'], ['1', '1', '0', '0', '0'], ['0', '0', '0', '0', '0']]\n",
      "输出: 1\n"
     ]
    }
   ],
   "source": [
    "# add your code here\n",
    "def num_islands(grid):\n",
    "    if not grid:\n",
    "        return 0\n",
    "    \n",
    "    m = len(grid)  # 行数\n",
    "    n = len(grid[0])  # 列数\n",
    "    islands = 0  # 岛屿计数\n",
    "    \n",
    "    def dfs(i, j):\n",
    "        # 越界或不是陆地\n",
    "        if i < 0 or i >= m or j < 0 or j >= n or grid[i][j] == \"0\":\n",
    "            return\n",
    "        # 标记为访问过\n",
    "        grid[i][j] = \"0\"\n",
    "        # 四个方向递归\n",
    "        dfs(i-1, j)  # 上\n",
    "        dfs(i+1, j)  # 下\n",
    "        dfs(i, j-1)  # 左\n",
    "        dfs(i, j+1)  # 右\n",
    "    \n",
    "    for i in range(m):\n",
    "        for j in range(n):\n",
    "            if grid[i][j] == \"1\":\n",
    "                islands += 1\n",
    "                dfs(i, j)  # 标记整个岛屿\n",
    "    \n",
    "    return islands\n",
    "\n",
    "if __name__ == \"__main__\":\n",
    "    grid1 = [\n",
    "        [\"1\",\"1\",\"1\",\"1\",\"0\"],\n",
    "        [\"1\",\"1\",\"0\",\"1\",\"0\"],\n",
    "        [\"1\",\"1\",\"0\",\"0\",\"0\"],\n",
    "        [\"0\",\"0\",\"0\",\"0\",\"0\"]\n",
    "    ]\n",
    "    print(\"输入:\", grid1)\n",
    "    print(\"输出:\", num_islands(grid1)) \n",
    "\n",
    "# 思路：使用深度优先搜索（DFS）遍历每个岛屿。遇到 1（陆地）时，启动 DFS 将相连的所有陆地标记为访问过（改为 0），并计数岛屿数。\n",
    "# 同时每个未访问的 1 代表一个新岛屿。\n",
    "# your algorithm time complexity is:遍历网格为m行，n列，且每个位置最多被访问一次，因此总的时间复杂度为O(m*n)=O(mn)"
   ]
  },
  {
   "cell_type": "code",
   "execution_count": null,
   "metadata": {},
   "outputs": [],
   "source": []
  }
 ],
 "metadata": {
  "kernelspec": {
   "display_name": "Python 3 (ipykernel)",
   "language": "python",
   "name": "python3"
  },
  "language_info": {
   "codemirror_mode": {
    "name": "ipython",
    "version": 3
   },
   "file_extension": ".py",
   "mimetype": "text/x-python",
   "name": "python",
   "nbconvert_exporter": "python",
   "pygments_lexer": "ipython3",
   "version": "3.9.12"
  }
 },
 "nbformat": 4,
 "nbformat_minor": 2
}
